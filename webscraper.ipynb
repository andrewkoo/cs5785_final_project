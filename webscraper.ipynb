{
 "cells": [
  {
   "cell_type": "code",
   "execution_count": 1,
   "metadata": {},
   "outputs": [],
   "source": [
    "import pandas as pd\n",
    "import numpy as np\n",
    "from selenium import webdriver\n",
    "from selenium.webdriver.common.desired_capabilities import DesiredCapabilities\n",
    "from selenium.webdriver.common.keys import Keys\n",
    "import time\n",
    "import csv\n",
    "import random"
   ]
  },
  {
   "cell_type": "code",
   "execution_count": null,
   "metadata": {},
   "outputs": [],
   "source": [
    "USERNAME = 'x'\n",
    "PASSWORD = 'y'"
   ]
  },
  {
   "cell_type": "code",
   "execution_count": 2,
   "metadata": {},
   "outputs": [],
   "source": [
    "# Initialize Chromedriver and authenticate with FantasyCruncher pro credentials\n",
    "def init_chrome():\n",
    "    caps = DesiredCapabilities.CHROME\n",
    "    chromedriver = webdriver.Chrome(desired_capabilities=caps, executable_path='drivers/chromedriver.exe')\n",
    "\n",
    "    # Authenticate StatHead\n",
    "    link = 'https://stathead.com/users/login.cgi?redirect_uri=https%3A//stathead.com/basketball/pgl_finder.cgi'\n",
    "    chromedriver.get(link)\n",
    "    time.sleep(2)\n",
    "    username = chromedriver.find_element_by_xpath('//*[@id=\"username\"]')\n",
    "    username.send_keys(USERNAME)\n",
    "    time.sleep(.3)\n",
    "    \n",
    "    password = chromedriver.find_element_by_xpath('//*[@id=\"password\"]')\n",
    "    password.send_keys(PASSWORD)\n",
    "    time.sleep(.3)\n",
    "    password.send_keys(Keys.RETURN)\n",
    "    time.sleep(2)\n",
    "    \n",
    "    # 2019-20 season\n",
    "    chromedriver.get('https://stathead.com/basketball/pgl_finder.cgi?request=1&match=game&order_by_asc=0&order_by=date_game&year_min=2020&year_max=2020&lg_id=NBA&is_playoffs=E&age_min=0&age_max=99&season_start=1&season_end=-1&positions%5B%5D=G&positions%5B%5D=GF&positions%5B%5D=F&positions%5B%5D=FG&positions%5B%5D=FC&positions%5B%5D=C&positions%5B%5D=CF&game_month=0')\n",
    "    time.sleep(2)\n",
    "    \n",
    "    return chromedriver\n",
    "\n",
    "# 2019-20 season: https://stathead.com/basketball/pgl_finder.cgi?request=1&match=game&order_by_asc=0&order_by=date_game&year_min=2020&year_max=2020&lg_id=NBA&is_playoffs=E&age_min=0&age_max=99&season_start=1&season_end=-1&positions%5B%5D=G&positions%5B%5D=GF&positions%5B%5D=F&positions%5B%5D=FG&positions%5B%5D=FC&positions%5B%5D=C&positions%5B%5D=CF&game_month=0\n",
    "# 2018-19 season: https://stathead.com/basketball/pgl_finder.cgi?request=1&match=game&order_by_asc=0&order_by=date_game&year_min=2019&year_max=2019&lg_id=NBA&is_playoffs=E&age_min=0&age_max=99&season_start=1&season_end=-1&positions%5B%5D=G&positions%5B%5D=GF&positions%5B%5D=F&positions%5B%5D=FG&positions%5B%5D=FC&positions%5B%5D=C&positions%5B%5D=CF&game_month=0\n",
    "# 2017-18 season: https://stathead.com/basketball/pgl_finder.cgi?request=1&match=game&order_by_asc=0&order_by=date_game&year_min=2018&year_max=2018&lg_id=NBA&is_playoffs=E&age_min=0&age_max=99&season_start=1&season_end=-1&positions%5B%5D=G&positions%5B%5D=GF&positions%5B%5D=F&positions%5B%5D=FG&positions%5B%5D=FC&positions%5B%5D=C&positions%5B%5D=CF&game_month=0\n",
    "# 2016-17 season: https://stathead.com/basketball/pgl_finder.cgi?request=1&match=game&order_by_asc=0&order_by=date_game&year_min=2017&year_max=2017&lg_id=NBA&is_playoffs=E&age_min=0&age_max=99&season_start=1&season_end=-1&positions%5B%5D=G&positions%5B%5D=GF&positions%5B%5D=F&positions%5B%5D=FG&positions%5B%5D=FC&positions%5B%5D=C&positions%5B%5D=CF&game_month=0\n",
    "# 2015-16 season: https://stathead.com/basketball/pgl_finder.cgi?request=1&match=game&order_by_asc=0&order_by=date_game&year_min=2016&year_max=2016&lg_id=NBA&is_playoffs=E&age_min=0&age_max=99&season_start=1&season_end=-1&positions%5B%5D=G&positions%5B%5D=GF&positions%5B%5D=F&positions%5B%5D=FG&positions%5B%5D=FC&positions%5B%5D=C&positions%5B%5D=CF&game_month=0\n",
    "# 2014-15 season: https://stathead.com/basketball/pgl_finder.cgi?request=1&match=game&order_by_asc=0&order_by=date_game&year_min=2015&year_max=2015&lg_id=NBA&is_playoffs=E&age_min=0&age_max=99&season_start=1&season_end=-1&positions%5B%5D=G&positions%5B%5D=GF&positions%5B%5D=F&positions%5B%5D=FG&positions%5B%5D=FC&positions%5B%5D=C&positions%5B%5D=CF&game_month=0\n"
   ]
  },
  {
   "cell_type": "code",
   "execution_count": 56,
   "metadata": {},
   "outputs": [],
   "source": [
    "csv_data = [['Rk', 'Player', 'Age', 'Pos', 'Tm', '', 'Opp', '', 'Date', 'GS', 'MP', 'FG',\n",
    " 'FGA', 'FG%', '2P', '2PA', '2P%', '3P', '3PA', '3P%', 'FT', 'FTA', 'FT%', 'ORB', 'DRB', 'TRB',\n",
    " 'AST', 'STL', 'BLK', 'TOV', 'PF', 'PTS', 'GmSc', 'BPM']]\n",
    "\n",
    "# chromedriver = init_chrome()\n",
    "while True: \n",
    "    dropdown = chromedriver.find_element_by_xpath('//*[@id=\"all_stats\"]/div[1]/div/ul/li[1]')\n",
    "    time.sleep(.5)\n",
    "    chromedriver.execute_script(\"arguments[0].setAttribute('class','hasmore drophover')\", dropdown)\n",
    "    time.sleep(.5)\n",
    "    random.random()\n",
    "    \n",
    "    chromedriver.execute_script(\"window.scrollTo(0, 100)\") \n",
    "    change_to_csv = chromedriver.find_element_by_xpath('/html/body/div[2]/div[2]/div/form/div[2]/div[2]/div[3]/div[1]/div/ul/li[1]/div/ul/li[4]/button')\n",
    "    change_to_csv.click()\n",
    "    time.sleep(.5)\n",
    "    random.random()\n",
    "    raw_text = chromedriver.find_element_by_xpath('//*[@id=\"csv_stats\"]')\n",
    "    text_lst = raw_text.text[raw_text.text.find('Rk'):].split('\\n')\n",
    "\n",
    "    for row in text_lst[1:]: \n",
    "        csv_data.append(row.split(','))\n",
    "    time.sleep(1)\n",
    "    \n",
    "    next_page = chromedriver.find_elements_by_class_name('next')\n",
    "    chromedriver.execute_script(\"window.scrollTo(0, 2000)\") \n",
    "    time.sleep(1)\n",
    "    if len(next_page) > 0: \n",
    "        next_page[0].click()\n",
    "        time.sleep(.1)\n",
    "        chromedriver.execute_script(\"window.scrollTo(0, 100)\") \n",
    "        time.sleep(4)\n",
    "        time.sleep(random.random())\n",
    "    else: \n",
    "        break\n",
    "    \n",
    "with open('test.csv', 'w', newline='', encoding='utf-8') as csvfile:\n",
    "    spamwriter = csv.writer(csvfile, delimiter=',')\n",
    "    spamwriter.writerows(csv_data)"
   ]
  },
  {
   "cell_type": "code",
   "execution_count": null,
   "metadata": {},
   "outputs": [],
   "source": []
  }
 ],
 "metadata": {
  "kernelspec": {
   "display_name": "Python 3",
   "language": "python",
   "name": "python3"
  },
  "language_info": {
   "codemirror_mode": {
    "name": "ipython",
    "version": 3
   },
   "file_extension": ".py",
   "mimetype": "text/x-python",
   "name": "python",
   "nbconvert_exporter": "python",
   "pygments_lexer": "ipython3",
   "version": "3.8.3"
  }
 },
 "nbformat": 4,
 "nbformat_minor": 4
}

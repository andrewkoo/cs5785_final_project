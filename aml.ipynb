{
 "cells": [
  {
   "cell_type": "code",
   "execution_count": 1,
   "metadata": {
    "id": "tvpJmaKff3HI"
   },
   "outputs": [],
   "source": [
    "import pandas as pd\n",
    "import numpy as np\n",
    "import time\n",
    "\n",
    "from sklearn.preprocessing import OneHotEncoder\n",
    "from sklearn.ensemble import RandomForestRegressor\n",
    "\n",
    "pd.options.mode.chained_assignment = None"
   ]
  },
  {
   "cell_type": "code",
   "execution_count": 2,
   "metadata": {
    "id": "0QkZGCbJhbb-"
   },
   "outputs": [],
   "source": [
    "season_2014_15 = pd.read_csv('https://raw.githubusercontent.com/andrewkoo/aml_data/master/2014-15_season.csv')\n",
    "season_2014_15['season'] = '2014-15'\n",
    "season_2015_16 = pd.read_csv('https://raw.githubusercontent.com/andrewkoo/aml_data/master/2015-16_season.csv')\n",
    "season_2015_16['season'] = '2015-16'\n",
    "season_2016_17 = pd.read_csv('https://raw.githubusercontent.com/andrewkoo/aml_data/master/2016-17_season.csv')\n",
    "season_2016_17['season'] = '2016-17'\n",
    "season_2017_18 = pd.read_csv('https://raw.githubusercontent.com/andrewkoo/aml_data/master/2017-18_season.csv')\n",
    "season_2017_18['season'] = '2017-18'\n",
    "season_2018_19 = pd.read_csv('https://raw.githubusercontent.com/andrewkoo/aml_data/master/2018-19_season.csv')\n",
    "season_2018_19['season'] = '2018-19'\n",
    "season_2019_20 = pd.read_csv('https://raw.githubusercontent.com/andrewkoo/aml_data/master/2019-20_season.csv')\n",
    "season_2019_20['season'] = '2019-20'\n",
    "\n",
    "data = pd.concat([season_2014_15, season_2015_16])\n",
    "data = pd.concat([data, season_2016_17])\n",
    "data = pd.concat([data, season_2017_18])\n",
    "data = pd.concat([data, season_2018_19])\n",
    "data = pd.concat([data, season_2019_20])"
   ]
  },
  {
   "cell_type": "code",
   "execution_count": 3,
   "metadata": {
    "id": "kWg9P4xTEgYN"
   },
   "outputs": [],
   "source": [
    "train_data = data[data['season'] != '2019-20']\n",
    "test_data = data[data['season'] == '2019-20']"
   ]
  },
  {
   "cell_type": "code",
   "execution_count": 4,
   "metadata": {
    "id": "1woTDyh6EgbV"
   },
   "outputs": [],
   "source": [
    "def playoffs(x):\n",
    "    tmp = x.split(\" \")\n",
    "    return tmp[1] if len(tmp) > 1 else ''\n",
    "\n",
    "# integer representation of 'Date' column\n",
    "def epoch_date(dt):\n",
    "    pattern = '%Y-%m-%d'\n",
    "    return int(time.mktime(time.strptime(dt, pattern)))\n",
    "\n",
    "def draftkings_value(row):\n",
    "    dk_value = 0\n",
    "    dk_value += row['PTS']\n",
    "    dk_value += row['3P'] * 0.5\n",
    "    dk_value += row['TRB'] * 1.25\n",
    "    dk_value += row['AST'] * 1.5\n",
    "    dk_value += row['STL'] * 2\n",
    "    dk_value += row['BLK'] * 2\n",
    "    dk_value += row['TOV'] * -0.5\n",
    "\n",
    "    # double double / triple double\n",
    "    categories = ['PTS', 'TRB', 'AST', 'STL', 'BLK']\n",
    "    check = (row[categories].values >= 10).sum()\n",
    "    if check >= 3: \n",
    "        dk_value += 3\n",
    "    elif check >= 2: \n",
    "        dk_value += 1.5\n",
    "    return dk_value\n",
    "\n",
    "def clean_data(df): \n",
    "    # split out 'Player' column to 'Name' and 'Player Key'\n",
    "    df.loc[:,'Name'] = df['Player'].apply(lambda x: x.split('\\\\')[0])\n",
    "    df.loc[:,'Player Key'] = df['Player'].apply(lambda x: x.split('\\\\')[1])\n",
    "    df.loc[:,'Date'] = df['Date'].apply(lambda x: x.split(' ')[0])\n",
    "    df.loc[:,'epoch_date'] = df['Date'].apply(epoch_date) \n",
    "    df.loc[:,'dk_value'] = df.apply(draftkings_value, axis=1)\n",
    "    df.loc[:,'Playoffs'] = df['Date'].apply(playoffs) \n",
    "    df = df[df['Playoffs'] != '*']\n",
    "    df = df[df['MP'] != 0]\n",
    "    df = df.sort_values('epoch_date')\n",
    "\n",
    "    df.loc[:,'HomeAway'] = df['Unnamed: 5']\n",
    "    df.loc[:,'Outcome'] = df['Unnamed: 7']\n",
    "    df.drop('Unnamed: 5', axis=1, inplace=True)\n",
    "    df.drop('Unnamed: 7', axis=1, inplace=True)\n",
    "\n",
    "    return df\n",
    "\n",
    "# calculate dk value on pred columns\n",
    "def draftkings_value_pred(row):\n",
    "    dk_value = 0\n",
    "    dk_value += row['PTS_pred']\n",
    "    dk_value += row['3P_pred'] * 0.5\n",
    "    dk_value += row['TRB_pred'] * 1.25\n",
    "    dk_value += row['AST_pred'] * 1.5\n",
    "    dk_value += row['STL_pred'] * 2\n",
    "    dk_value += row['BLK_pred'] * 2\n",
    "    dk_value += row['TOV_pred'] * -0.5\n",
    "\n",
    "    # double double / triple double\n",
    "    categories = ['PTS_pred', 'TRB_pred', 'AST_pred', 'STL_pred', 'BLK_pred']\n",
    "    check = (row[categories].values >= 10).sum()\n",
    "    if check >= 3: \n",
    "        dk_value += 3\n",
    "    elif check >= 2: \n",
    "        dk_value += 1.5\n",
    "    return dk_value"
   ]
  },
  {
   "cell_type": "code",
   "execution_count": 5,
   "metadata": {
    "id": "ixnLbDRyEgVu"
   },
   "outputs": [],
   "source": [
    "train_data = clean_data(train_data)\n",
    "test_data = clean_data(test_data)"
   ]
  },
  {
   "cell_type": "code",
   "execution_count": 6,
   "metadata": {
    "colab": {
     "base_uri": "https://localhost:8080/",
     "height": 326
    },
    "id": "RYqiN4_InCd0",
    "outputId": "00c5b38d-6d4a-48b9-f997-df6dff1456cf"
   },
   "outputs": [
    {
     "data": {
      "text/html": [
       "<div>\n",
       "<style scoped>\n",
       "    .dataframe tbody tr th:only-of-type {\n",
       "        vertical-align: middle;\n",
       "    }\n",
       "\n",
       "    .dataframe tbody tr th {\n",
       "        vertical-align: top;\n",
       "    }\n",
       "\n",
       "    .dataframe thead th {\n",
       "        text-align: right;\n",
       "    }\n",
       "</style>\n",
       "<table border=\"1\" class=\"dataframe\">\n",
       "  <thead>\n",
       "    <tr style=\"text-align: right;\">\n",
       "      <th></th>\n",
       "      <th>Rk</th>\n",
       "      <th>Player</th>\n",
       "      <th>Age</th>\n",
       "      <th>Pos</th>\n",
       "      <th>Tm</th>\n",
       "      <th>Opp</th>\n",
       "      <th>Date</th>\n",
       "      <th>GS</th>\n",
       "      <th>MP</th>\n",
       "      <th>FG</th>\n",
       "      <th>...</th>\n",
       "      <th>GmSc</th>\n",
       "      <th>BPM</th>\n",
       "      <th>season</th>\n",
       "      <th>Name</th>\n",
       "      <th>Player Key</th>\n",
       "      <th>epoch_date</th>\n",
       "      <th>dk_value</th>\n",
       "      <th>Playoffs</th>\n",
       "      <th>HomeAway</th>\n",
       "      <th>Outcome</th>\n",
       "    </tr>\n",
       "  </thead>\n",
       "  <tbody>\n",
       "    <tr>\n",
       "      <th>27616</th>\n",
       "      <td>27617</td>\n",
       "      <td>Dirk Nowitzki\\nowitdi01</td>\n",
       "      <td>36-131</td>\n",
       "      <td>F</td>\n",
       "      <td>DAL</td>\n",
       "      <td>SAS</td>\n",
       "      <td>2014-10-28</td>\n",
       "      <td>1</td>\n",
       "      <td>32</td>\n",
       "      <td>7</td>\n",
       "      <td>...</td>\n",
       "      <td>15.5</td>\n",
       "      <td>5.3</td>\n",
       "      <td>2014-15</td>\n",
       "      <td>Dirk Nowitzki</td>\n",
       "      <td>nowitdi01</td>\n",
       "      <td>1414468800</td>\n",
       "      <td>30.00</td>\n",
       "      <td></td>\n",
       "      <td>@</td>\n",
       "      <td>L</td>\n",
       "    </tr>\n",
       "    <tr>\n",
       "      <th>27595</th>\n",
       "      <td>27596</td>\n",
       "      <td>Manu Ginóbili\\ginobma01</td>\n",
       "      <td>37-092</td>\n",
       "      <td>G</td>\n",
       "      <td>SAS</td>\n",
       "      <td>DAL</td>\n",
       "      <td>2014-10-28</td>\n",
       "      <td>0</td>\n",
       "      <td>28</td>\n",
       "      <td>6</td>\n",
       "      <td>...</td>\n",
       "      <td>15.1</td>\n",
       "      <td>6.0</td>\n",
       "      <td>2014-15</td>\n",
       "      <td>Manu Ginóbili</td>\n",
       "      <td>ginobma01</td>\n",
       "      <td>1414468800</td>\n",
       "      <td>35.00</td>\n",
       "      <td></td>\n",
       "      <td>NaN</td>\n",
       "      <td>W</td>\n",
       "    </tr>\n",
       "    <tr>\n",
       "      <th>27594</th>\n",
       "      <td>27595</td>\n",
       "      <td>Jimmer Fredette\\fredeji01</td>\n",
       "      <td>25-245</td>\n",
       "      <td>G</td>\n",
       "      <td>NOP</td>\n",
       "      <td>ORL</td>\n",
       "      <td>2014-10-28</td>\n",
       "      <td>0</td>\n",
       "      <td>18</td>\n",
       "      <td>0</td>\n",
       "      <td>...</td>\n",
       "      <td>-1.0</td>\n",
       "      <td>-13.6</td>\n",
       "      <td>2014-15</td>\n",
       "      <td>Jimmer Fredette</td>\n",
       "      <td>fredeji01</td>\n",
       "      <td>1414468800</td>\n",
       "      <td>7.00</td>\n",
       "      <td></td>\n",
       "      <td>NaN</td>\n",
       "      <td>W</td>\n",
       "    </tr>\n",
       "    <tr>\n",
       "      <th>27593</th>\n",
       "      <td>27594</td>\n",
       "      <td>Evan Fournier\\fournev01</td>\n",
       "      <td>21-364</td>\n",
       "      <td>G-F</td>\n",
       "      <td>ORL</td>\n",
       "      <td>NOP</td>\n",
       "      <td>2014-10-28</td>\n",
       "      <td>1</td>\n",
       "      <td>32</td>\n",
       "      <td>3</td>\n",
       "      <td>...</td>\n",
       "      <td>2.4</td>\n",
       "      <td>-7.9</td>\n",
       "      <td>2014-15</td>\n",
       "      <td>Evan Fournier</td>\n",
       "      <td>fournev01</td>\n",
       "      <td>1414468800</td>\n",
       "      <td>16.75</td>\n",
       "      <td></td>\n",
       "      <td>@</td>\n",
       "      <td>L</td>\n",
       "    </tr>\n",
       "    <tr>\n",
       "      <th>27592</th>\n",
       "      <td>27593</td>\n",
       "      <td>Tyreke Evans\\evansty01</td>\n",
       "      <td>25-039</td>\n",
       "      <td>G-F</td>\n",
       "      <td>NOP</td>\n",
       "      <td>ORL</td>\n",
       "      <td>2014-10-28</td>\n",
       "      <td>1</td>\n",
       "      <td>35</td>\n",
       "      <td>5</td>\n",
       "      <td>...</td>\n",
       "      <td>10.0</td>\n",
       "      <td>-2.3</td>\n",
       "      <td>2014-15</td>\n",
       "      <td>Tyreke Evans</td>\n",
       "      <td>evansty01</td>\n",
       "      <td>1414468800</td>\n",
       "      <td>32.25</td>\n",
       "      <td></td>\n",
       "      <td>NaN</td>\n",
       "      <td>W</td>\n",
       "    </tr>\n",
       "  </tbody>\n",
       "</table>\n",
       "<p>5 rows × 40 columns</p>\n",
       "</div>"
      ],
      "text/plain": [
       "          Rk                     Player     Age  Pos   Tm  Opp        Date  \\\n",
       "27616  27617    Dirk Nowitzki\\nowitdi01  36-131    F  DAL  SAS  2014-10-28   \n",
       "27595  27596    Manu Ginóbili\\ginobma01  37-092    G  SAS  DAL  2014-10-28   \n",
       "27594  27595  Jimmer Fredette\\fredeji01  25-245    G  NOP  ORL  2014-10-28   \n",
       "27593  27594    Evan Fournier\\fournev01  21-364  G-F  ORL  NOP  2014-10-28   \n",
       "27592  27593     Tyreke Evans\\evansty01  25-039  G-F  NOP  ORL  2014-10-28   \n",
       "\n",
       "       GS  MP  FG  ...  GmSc   BPM   season             Name  Player Key  \\\n",
       "27616   1  32   7  ...  15.5   5.3  2014-15    Dirk Nowitzki   nowitdi01   \n",
       "27595   0  28   6  ...  15.1   6.0  2014-15    Manu Ginóbili   ginobma01   \n",
       "27594   0  18   0  ...  -1.0 -13.6  2014-15  Jimmer Fredette   fredeji01   \n",
       "27593   1  32   3  ...   2.4  -7.9  2014-15    Evan Fournier   fournev01   \n",
       "27592   1  35   5  ...  10.0  -2.3  2014-15     Tyreke Evans   evansty01   \n",
       "\n",
       "       epoch_date  dk_value  Playoffs  HomeAway  Outcome  \n",
       "27616  1414468800     30.00                   @        L  \n",
       "27595  1414468800     35.00                 NaN        W  \n",
       "27594  1414468800      7.00                 NaN        W  \n",
       "27593  1414468800     16.75                   @        L  \n",
       "27592  1414468800     32.25                 NaN        W  \n",
       "\n",
       "[5 rows x 40 columns]"
      ]
     },
     "execution_count": 6,
     "metadata": {},
     "output_type": "execute_result"
    }
   ],
   "source": [
    "train_data.head()"
   ]
  },
  {
   "cell_type": "code",
   "execution_count": 7,
   "metadata": {
    "id": "0k5NehMunZnI"
   },
   "outputs": [],
   "source": [
    "sql_columns = []\n",
    "original_cols = ['MP', 'FG', 'FGA', 'FG%', '2P', '2PA', '2P%', '3P', '3PA',\n",
    "                  '3P%', 'FT', 'FTA', 'FT%', 'ORB', 'DRB', 'TRB', 'AST', 'STL', 'BLK',\n",
    "                  'TOV', 'PF', 'PTS', 'GmSc', 'BPM']\n",
    "windows = ['3', '5', '10']\n",
    "for col in original_cols: \n",
    "    for w in windows: \n",
    "        sql_columns.append(col + '_' + w)"
   ]
  },
  {
   "cell_type": "code",
   "execution_count": 8,
   "metadata": {
    "id": "ii3Wen6LnljS"
   },
   "outputs": [],
   "source": [
    "# for col_name in original_cols:# iterate through original column name\n",
    "for window in [3, 5, 10]:\n",
    "    # set rolling avg column\n",
    "    # new_column_name = col_name + '_' + str(window)\n",
    "    tmp = train_data[['Player Key'] + original_cols].astype({\n",
    "              'Player Key' : 'object',\n",
    "              'MP' : 'float64', \n",
    "              'FG' : 'float64', \n",
    "              'FGA' : 'float64', \n",
    "              'FG%' : 'float64', \n",
    "              '2P' : 'float64', \n",
    "              '2PA' : 'float64', \n",
    "              '2P%' : 'float64', \n",
    "              '3P' : 'float64', \n",
    "              '3PA' : 'float64',\n",
    "              '3P%' : 'float64', \n",
    "              'FT' : 'float64', \n",
    "              'FTA' : 'float64', \n",
    "              'FT%' : 'float64', \n",
    "              'ORB' : 'float64', \n",
    "              'DRB' : 'float64', \n",
    "              'TRB' : 'float64', \n",
    "              'AST' : 'float64', \n",
    "              'STL' : 'float64', \n",
    "              'BLK' : 'float64',\n",
    "              'TOV' : 'float64', \n",
    "              'PF' : 'float64', \n",
    "              'PTS' : 'float64', \n",
    "              'GmSc' : 'float64', \n",
    "              'BPM' : 'float64'\n",
    "          })\n",
    "\n",
    "    mat = tmp.groupby('Player Key').transform(lambda x: x.rolling(window).mean().shift().bfill())\n",
    "    mat = mat.add_suffix('_' + str(window))\n",
    "\n",
    "    train_data = pd.concat((train_data, mat), axis=1)\n",
    "\n",
    "# for col_name in original_cols:# iterate through original column name\n",
    "for window in [20, 82]:\n",
    "  # set rolling avg column\n",
    "  # new_column_name = col_name + '_' + str(window)\n",
    "    tmp = train_data[['Player Key', 'dk_value']].astype({\n",
    "              'Player Key' : 'object',\n",
    "              'dk_value' : 'float64'\n",
    "          })\n",
    "\n",
    "    mat = tmp.groupby('Player Key').transform(lambda x: x.rolling(window).mean().shift().bfill())\n",
    "    mat = mat.add_suffix('_' + str(window))\n",
    "\n",
    "    train_data = pd.concat((train_data, mat), axis=1)"
   ]
  },
  {
   "cell_type": "code",
   "execution_count": 9,
   "metadata": {
    "id": "fVY7GGY_rw9F"
   },
   "outputs": [],
   "source": [
    "# for col_name in original_cols:# iterate through original column name\n",
    "for window in [3, 5, 10]:\n",
    "  # set rolling avg column\n",
    "  # new_column_name = col_name + '_' + str(window)\n",
    "  tmp = test_data[['Player Key'] + original_cols].astype({\n",
    "              'Player Key' : 'object',\n",
    "              'MP' : 'float64', \n",
    "              'FG' : 'float64', \n",
    "              'FGA' : 'float64', \n",
    "              'FG%' : 'float64', \n",
    "              '2P' : 'float64', \n",
    "              '2PA' : 'float64', \n",
    "              '2P%' : 'float64', \n",
    "              '3P' : 'float64', \n",
    "              '3PA' : 'float64',\n",
    "              '3P%' : 'float64', \n",
    "              'FT' : 'float64', \n",
    "              'FTA' : 'float64', \n",
    "              'FT%' : 'float64', \n",
    "              'ORB' : 'float64', \n",
    "              'DRB' : 'float64', \n",
    "              'TRB' : 'float64', \n",
    "              'AST' : 'float64', \n",
    "              'STL' : 'float64', \n",
    "              'BLK' : 'float64',\n",
    "              'TOV' : 'float64', \n",
    "              'PF' : 'float64', \n",
    "              'PTS' : 'float64', \n",
    "              'GmSc' : 'float64', \n",
    "              'BPM' : 'float64'\n",
    "          })\n",
    "\n",
    "  mat = tmp.groupby('Player Key').transform(lambda x: x.rolling(window).mean().shift().bfill())\n",
    "  mat = mat.add_suffix('_' + str(window))\n",
    "\n",
    "  test_data = pd.concat((test_data, mat), axis=1)\n",
    "\n",
    "# for col_name in original_cols:# iterate through original column name\n",
    "for window in [20, 82]:\n",
    "  # set rolling avg column\n",
    "  # new_column_name = col_name + '_' + str(window)\n",
    "  tmp = test_data[['Player Key', 'dk_value']].astype({\n",
    "              'Player Key' : 'object',\n",
    "              'dk_value' : 'float64'\n",
    "          })\n",
    "\n",
    "  mat = tmp.groupby('Player Key').transform(lambda x: x.rolling(window).mean().shift().bfill())\n",
    "  mat = mat.add_suffix('_' + str(window))\n",
    "\n",
    "  test_data = pd.concat((test_data, mat), axis=1)"
   ]
  },
  {
   "cell_type": "code",
   "execution_count": 10,
   "metadata": {
    "id": "MV8B9jNrueYC"
   },
   "outputs": [],
   "source": [
    "train_data['HomeAway'] = train_data['HomeAway'].fillna(' ')\n",
    "test_data['HomeAway'] = test_data['HomeAway'].fillna(' ')"
   ]
  },
  {
   "cell_type": "code",
   "execution_count": 11,
   "metadata": {
    "id": "nyvsAS3ymGqz"
   },
   "outputs": [],
   "source": [
    "# Initialize one hot encoder for non-ordinal categorical data\n",
    "onehot_columns = ['Tm', 'Opp', 'HomeAway', 'Pos'] # homeaway: change to label-encoding\n",
    "onehot_enc = OneHotEncoder(handle_unknown='ignore')\n",
    "\n",
    "# Fit transform to train\n",
    "onehot_train_data = onehot_enc.fit_transform(train_data[onehot_columns]).toarray()\n",
    "encoded_train_data = np.concatenate((train_data.values, onehot_train_data), axis=1)\n",
    "\n",
    "# Transform to test\n",
    "onehot_test_data = onehot_enc.transform(test_data[onehot_columns]).toarray()\n",
    "encoded_test_data = np.concatenate((test_data.values, onehot_test_data), axis=1)\n",
    "\n",
    "# Get column names\n",
    "encoded_onehot_columns = []\n",
    "for i, cat in enumerate(onehot_enc.categories_): \n",
    "  for val in cat:\n",
    "    encoded_onehot_columns.append(f'{onehot_columns[i]}_' + val)\n",
    "\n",
    "# Update data frames\n",
    "train_data = pd.DataFrame(encoded_train_data, columns = train_data.columns.tolist() + encoded_onehot_columns)\n",
    "test_data = pd.DataFrame(encoded_test_data, columns = test_data.columns.tolist() + encoded_onehot_columns)"
   ]
  },
  {
   "cell_type": "code",
   "execution_count": 12,
   "metadata": {
    "id": "1cZ3usv-gjnx"
   },
   "outputs": [],
   "source": [
    "primary_keys = ['Player Key', 'Date']\n",
    "feature_list = sql_columns + encoded_onehot_columns\n",
    "# labels = ['PTS', 'TRB', 'AST', 'STL', 'TOV', ]\n",
    "# cols_to_drop = ['dk_value_82', 'dk_value_20', 'MP', 'FG', 'FGA', 'FG%', '2P', '2PA', '2P%', '3P', '3PA',\n",
    "#                 '3P%', 'FT', 'FTA', 'FT%', 'ORB', 'DRB', 'TRB', 'AST', 'STL', 'BLK',\n",
    "#                 'TOV', 'PF', 'PTS', 'GmSc', 'BPM', 'dk_value']"
   ]
  },
  {
   "cell_type": "code",
   "execution_count": 13,
   "metadata": {
    "id": "jiAlGvAHyc5U"
   },
   "outputs": [],
   "source": [
    "train_data = train_data.fillna(0)\n",
    "test_data = test_data.fillna(0)"
   ]
  },
  {
   "cell_type": "code",
   "execution_count": 14,
   "metadata": {
    "colab": {
     "base_uri": "https://localhost:8080/"
    },
    "id": "U_DC7lFOm2Ky",
    "outputId": "f15a1688-bc37-4fc4-93e3-150eed4097fa"
   },
   "outputs": [
    {
     "data": {
      "text/plain": [
       "RandomForestRegressor(random_state=0)"
      ]
     },
     "execution_count": 14,
     "metadata": {},
     "output_type": "execute_result"
    }
   ],
   "source": [
    "pts_y_train = train_data['PTS']\n",
    "pts_X_train = train_data[feature_list]\n",
    "pts_rf = RandomForestRegressor(random_state = 0)\n",
    "pts_rf.fit(pts_X_train, pts_y_train)"
   ]
  },
  {
   "cell_type": "code",
   "execution_count": null,
   "metadata": {
    "colab": {
     "base_uri": "https://localhost:8080/"
    },
    "id": "sFeq_5oawoWR",
    "outputId": "ec079577-d4d5-4544-83df-91e72aa4b9bf"
   },
   "outputs": [],
   "source": [
    "trb_y_train = train_data['TRB']\n",
    "trb_X_train = train_data[feature_list]\n",
    "trb_rf = RandomForestRegressor(random_state = 0)\n",
    "trb_rf.fit(trb_X_train, trb_y_train)"
   ]
  },
  {
   "cell_type": "code",
   "execution_count": null,
   "metadata": {
    "colab": {
     "base_uri": "https://localhost:8080/"
    },
    "id": "fp7rFrdqxHtQ",
    "outputId": "88bb463d-30ab-4b59-cec4-a9d103ea449c"
   },
   "outputs": [],
   "source": [
    "ast_y_train = train_data['AST']\n",
    "ast_X_train = train_data[feature_list]\n",
    "ast_rf = RandomForestRegressor(random_state = 0)\n",
    "ast_rf.fit(ast_X_train, ast_y_train)"
   ]
  },
  {
   "cell_type": "code",
   "execution_count": null,
   "metadata": {
    "colab": {
     "base_uri": "https://localhost:8080/"
    },
    "id": "0dJMKsccxH2C",
    "outputId": "aaab0a61-a753-40ca-c20d-d9c38571ab09"
   },
   "outputs": [],
   "source": [
    "stl_y_train = train_data['STL']\n",
    "stl_X_train = train_data[feature_list]\n",
    "stl_rf = RandomForestRegressor(random_state = 0)\n",
    "stl_rf.fit(stl_X_train, stl_y_train)"
   ]
  },
  {
   "cell_type": "code",
   "execution_count": null,
   "metadata": {
    "colab": {
     "base_uri": "https://localhost:8080/"
    },
    "id": "W1FOi6KyxHo4",
    "outputId": "dba786a6-b8a3-48f9-8161-8b6d493347c4"
   },
   "outputs": [],
   "source": [
    "tov_y_train = train_data['TOV']\n",
    "tov_X_train = train_data[feature_list]\n",
    "tov_rf = RandomForestRegressor(random_state = 0)\n",
    "tov_rf.fit(tov_X_train, tov_y_train)"
   ]
  },
  {
   "cell_type": "code",
   "execution_count": null,
   "metadata": {
    "colab": {
     "base_uri": "https://localhost:8080/"
    },
    "id": "vgU_3TAhyx9K",
    "outputId": "37b0ed96-ec85-457b-aff3-b4bfb31bedd9"
   },
   "outputs": [],
   "source": [
    "three_p_y_train = train_data['3P']\n",
    "three_p_X_train = train_data[feature_list]\n",
    "three_p_rf = RandomForestRegressor(random_state = 0)\n",
    "three_p_rf.fit(three_p_X_train, three_p_y_train)"
   ]
  },
  {
   "cell_type": "code",
   "execution_count": null,
   "metadata": {
    "colab": {
     "base_uri": "https://localhost:8080/"
    },
    "id": "CUZcUNbjzCTQ",
    "outputId": "4102e0b5-5fb2-4ee6-c79a-ac1bc76ee7c5"
   },
   "outputs": [],
   "source": [
    "blk_y_train = train_data['BLK']\n",
    "blk_X_train = train_data[feature_list]\n",
    "blk_rf = RandomForestRegressor(random_state = 0)\n",
    "blk_rf.fit(blk_X_train, blk_y_train)"
   ]
  },
  {
   "cell_type": "markdown",
   "metadata": {
    "id": "MMPgcevoxKoq"
   },
   "source": [
    "Tests"
   ]
  },
  {
   "cell_type": "code",
   "execution_count": null,
   "metadata": {
    "colab": {
     "base_uri": "https://localhost:8080/"
    },
    "id": "Q9OZKRoWm2hA",
    "outputId": "df658145-efcd-4086-ff02-04e06939b4bd"
   },
   "outputs": [],
   "source": [
    "pts_X_test = test_data[feature_list]\n",
    "pts_y_test = test_data['PTS']\n",
    "pts_rf.score(pts_X_test, pts_y_test)"
   ]
  },
  {
   "cell_type": "code",
   "execution_count": null,
   "metadata": {
    "colab": {
     "base_uri": "https://localhost:8080/"
    },
    "id": "6YncmdeEm2QB",
    "outputId": "88e1075d-c8ab-491a-bda5-d29ef9b6bf0e"
   },
   "outputs": [],
   "source": [
    "ast_X_test = test_data[feature_list]\n",
    "ast_y_test = test_data['AST']\n",
    "ast_rf.score(ast_X_test, ast_y_test)"
   ]
  },
  {
   "cell_type": "code",
   "execution_count": null,
   "metadata": {
    "colab": {
     "base_uri": "https://localhost:8080/"
    },
    "id": "4gQGQ1YTm2OB",
    "outputId": "fcb97cbf-ee93-4f02-a04a-ffdd7768d2c7"
   },
   "outputs": [],
   "source": [
    "stl_X_test = test_data[feature_list]\n",
    "stl_y_test = test_data['STL']\n",
    "stl_rf.score(stl_X_test, stl_y_test)"
   ]
  },
  {
   "cell_type": "code",
   "execution_count": null,
   "metadata": {
    "colab": {
     "base_uri": "https://localhost:8080/"
    },
    "id": "xDqWVxNlm2Hl",
    "outputId": "8d7f37fc-135f-4096-c45d-9e6234ad4f2c"
   },
   "outputs": [],
   "source": [
    "trb_X_test = test_data[feature_list]\n",
    "trb_y_test = test_data['TRB']\n",
    "trb_rf.score(trb_X_test, trb_y_test)"
   ]
  },
  {
   "cell_type": "code",
   "execution_count": null,
   "metadata": {
    "colab": {
     "base_uri": "https://localhost:8080/"
    },
    "id": "W2Y9PxlRyIbW",
    "outputId": "e5e901d7-d2e5-4b37-e11d-d45e8065952a"
   },
   "outputs": [],
   "source": [
    "tov_X_test = test_data[feature_list]\n",
    "tov_y_test = test_data['TOV']\n",
    "tov_rf.score(tov_X_test, tov_y_test)"
   ]
  },
  {
   "cell_type": "code",
   "execution_count": null,
   "metadata": {
    "colab": {
     "base_uri": "https://localhost:8080/"
    },
    "id": "13iEmS_gzny8",
    "outputId": "662f8bd9-abfc-4920-bde6-beab2427e8a4"
   },
   "outputs": [],
   "source": [
    "three_p_X_test = test_data[feature_list]\n",
    "three_p_y_test = test_data['3P']\n",
    "three_p_rf.score(three_p_X_test, three_p_y_test)"
   ]
  },
  {
   "cell_type": "code",
   "execution_count": null,
   "metadata": {
    "colab": {
     "base_uri": "https://localhost:8080/"
    },
    "id": "burA2CmEznn9",
    "outputId": "49a19f9f-8590-4aab-b5cb-0187923d5490"
   },
   "outputs": [],
   "source": [
    "blk_X_test = test_data[feature_list]\n",
    "blk_y_test = test_data['BLK']\n",
    "blk_rf.score(blk_X_test, blk_y_test)"
   ]
  },
  {
   "cell_type": "markdown",
   "metadata": {
    "id": "8QaJ4fpZ_fnw"
   },
   "source": [
    "Benchmark"
   ]
  },
  {
   "cell_type": "code",
   "execution_count": null,
   "metadata": {
    "id": "-ZcbZZVC_fMU"
   },
   "outputs": [],
   "source": [
    "all_test_data = test_data.copy()"
   ]
  },
  {
   "cell_type": "code",
   "execution_count": null,
   "metadata": {
    "id": "-B5AM2zSk_dV"
   },
   "outputs": [],
   "source": [
    "test_data['PTS_pred'] = pts_rf.predict(pts_X_test)\n",
    "test_data['TRB_pred'] = trb_rf.predict(trb_X_test)\n",
    "test_data['STL_pred'] = stl_rf.predict(stl_X_test)\n",
    "test_data['AST_pred'] = ast_rf.predict(ast_X_test)\n",
    "test_data['TOV_pred'] = tov_rf.predict(tov_X_test)\n",
    "test_data['BLK_pred'] = blk_rf.predict(blk_X_test)\n",
    "test_data['3P_pred'] = three_p_rf.predict(three_p_X_test)"
   ]
  },
  {
   "cell_type": "code",
   "execution_count": null,
   "metadata": {
    "id": "-E53iogmk_iQ"
   },
   "outputs": [],
   "source": [
    "test_data['dk_value_pred'] = test_data.apply(draftkings_value_pred, axis=1)"
   ]
  },
  {
   "cell_type": "code",
   "execution_count": null,
   "metadata": {
    "colab": {
     "base_uri": "https://localhost:8080/"
    },
    "id": "eC7Di9dQk_km",
    "outputId": "4cb9b337-ae1c-4b1c-a43a-198d53f1705c"
   },
   "outputs": [],
   "source": [
    "# compare to FPPG\n",
    "test_data['l2_error'] = (test_data['dk_value_pred'] - test_data['dk_value'])**2\n",
    "avg_pred_error = test_data['l2_error'].mean()\n",
    "sum_pred_error = test_data['l2_error'].sum()\n",
    "\n",
    "test_data['l2_error'] = (test_data['dk_value_20'] - test_data['dk_value'])**2\n",
    "avg_benchmark_error = test_data['l2_error'].mean()\n",
    "sum_benchmark_error = test_data['l2_error'].sum()\n",
    "\n",
    "print('Average RF Prediction L2 Error: ', avg_pred_error)\n",
    "print('Average Benchmark Prediction L2 Error: ', avg_benchmark_error)\n",
    "print('Average Improvement: ', avg_benchmark_error - avg_pred_error)\n",
    "print('')\n",
    "print('Total RF Prediction L2 Error: ', sum_pred_error)\n",
    "print('Total Benchmark Prediction L2 Error: ', sum_benchmark_error)\n",
    "print('Total Improvement: ', sum_benchmark_error - sum_pred_error)"
   ]
  },
  {
   "cell_type": "code",
   "execution_count": null,
   "metadata": {
    "id": "AeR3jQEW0R8K"
   },
   "outputs": [],
   "source": []
  },
  {
   "cell_type": "code",
   "execution_count": null,
   "metadata": {
    "id": "3wFMSFwY5Zti"
   },
   "outputs": [],
   "source": []
  },
  {
   "cell_type": "code",
   "execution_count": null,
   "metadata": {
    "colab": {
     "base_uri": "https://localhost:8080/"
    },
    "id": "zhdgOjnMk_nY",
    "outputId": "020628c8-f5fe-4272-a3f9-f807a34e2fb6"
   },
   "outputs": [
    {
     "name": "stderr",
     "output_type": "stream",
     "text": [
      "/usr/local/lib/python3.6/dist-packages/sklearn/base.py:434: FutureWarning: The default value of multioutput (not exposed in score method) will change from 'variance_weighted' to 'uniform_average' in 0.23 to keep consistent with 'metrics.r2_score'. To specify the default value manually and avoid the warning, please either call 'metrics.r2_score' directly or make a custom scorer with 'metrics.make_scorer' (the built-in scorer 'r2' uses multioutput='uniform_average').\n",
      "  \"multioutput='uniform_average').\", FutureWarning)\n"
     ]
    },
    {
     "data": {
      "text/plain": [
       "0.5012911380806248"
      ]
     },
     "execution_count": 33,
     "metadata": {
      "tags": []
     },
     "output_type": "execute_result"
    }
   ],
   "source": [
    "# all_model ( features ) => (pts, rbds, asts, stls, tov) for a player fo ra game\n",
    "all_X_train = train_data[feature_list]\n",
    "all_y_train = train_data[['PTS','TRB','AST','STL','TOV','BLK','3P']]\n",
    "\n",
    "all_rf = RandomForestRegressor(random_state = 0)\n",
    "all_rf.fit(all_X_train, all_y_train)\n",
    "\n",
    "# define X_test, y_test\n",
    "all_X_test = test_data[feature_list]\n",
    "all_y_test = test_data[['PTS','TRB','AST','STL','TOV','BLK','3P']]\n",
    "\n",
    "all_rf.score(all_X_test, all_y_test)"
   ]
  },
  {
   "cell_type": "code",
   "execution_count": null,
   "metadata": {
    "id": "eayOnSVZk_pr"
   },
   "outputs": [],
   "source": [
    "all_preds = all_rf.predict(all_X_test)\n",
    "all_preds_df = pd.DataFrame(all_preds, columns=['PTS_pred','TRB_pred','AST_pred','STL_pred','TOV_pred','BLK_pred','3P_pred'])\n",
    "all_test_data = pd.concat((all_test_data, all_preds_df), axis=1)"
   ]
  },
  {
   "cell_type": "code",
   "execution_count": null,
   "metadata": {
    "id": "AJZHG5XWhYEo"
   },
   "outputs": [],
   "source": [
    "all_test_data.loc[:,'dk_value_pred'] = all_test_data.apply(draftkings_value_pred, axis=1)"
   ]
  },
  {
   "cell_type": "code",
   "execution_count": null,
   "metadata": {
    "colab": {
     "base_uri": "https://localhost:8080/"
    },
    "id": "8H1BO5Abe4Li",
    "outputId": "eacc949e-2e05-44b9-b9f8-abafcf0fd088"
   },
   "outputs": [
    {
     "name": "stdout",
     "output_type": "stream",
     "text": [
      "Average RF Prediction L2 Error:  94.60487042183743\n",
      "Average Benchmark Prediction L2 Error:  100.93127979726897\n",
      "Average Improvement:  6.326409375431538\n",
      "\n",
      "Total RF Prediction L2 Error:  2269097.8170677796\n",
      "Total Benchmark Prediction L2 Error:  2420836.7459375\n",
      "Total Improvement:  151738.92886972055\n"
     ]
    }
   ],
   "source": [
    "# compare to FPPG\n",
    "all_test_data['l2_error'] = (all_test_data['dk_value_pred'] - all_test_data['dk_value'])**2\n",
    "avg_pred_error = all_test_data['l2_error'].mean()\n",
    "sum_pred_error = all_test_data['l2_error'].sum()\n",
    "\n",
    "all_test_data['l2_error'] = (all_test_data['dk_value_20'] - all_test_data['dk_value'])**2\n",
    "avg_benchmark_error = all_test_data['l2_error'].mean()\n",
    "sum_benchmark_error = all_test_data['l2_error'].sum()\n",
    "\n",
    "print('Average RF Prediction L2 Error: ', avg_pred_error)\n",
    "print('Average Benchmark Prediction L2 Error: ', avg_benchmark_error)\n",
    "print('Average Improvement: ', avg_benchmark_error - avg_pred_error)\n",
    "print('')\n",
    "print('Total RF Prediction L2 Error: ', sum_pred_error)\n",
    "print('Total Benchmark Prediction L2 Error: ', sum_benchmark_error)\n",
    "print('Total Improvement: ', sum_benchmark_error - sum_pred_error)"
   ]
  },
  {
   "cell_type": "code",
   "execution_count": null,
   "metadata": {
    "id": "o8z8ytXA-KRO"
   },
   "outputs": [],
   "source": []
  }
 ],
 "metadata": {
  "colab": {
   "collapsed_sections": [],
   "name": "aml.ipynb",
   "provenance": []
  },
  "kernelspec": {
   "display_name": "Python 3",
   "language": "python",
   "name": "python3"
  },
  "language_info": {
   "codemirror_mode": {
    "name": "ipython",
    "version": 3
   },
   "file_extension": ".py",
   "mimetype": "text/x-python",
   "name": "python",
   "nbconvert_exporter": "python",
   "pygments_lexer": "ipython3",
   "version": "3.8.3"
  }
 },
 "nbformat": 4,
 "nbformat_minor": 1
}
